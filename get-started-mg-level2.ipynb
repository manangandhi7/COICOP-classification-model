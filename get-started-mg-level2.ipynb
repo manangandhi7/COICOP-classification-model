{
 "cells": [
  {
   "cell_type": "code",
   "execution_count": 1,
   "metadata": {},
   "outputs": [
    {
     "name": "stderr",
     "output_type": "stream",
     "text": [
      "Using TensorFlow backend.\n"
     ]
    }
   ],
   "source": [
    "import pandas as pd\n",
    "import copy\n",
    "import numpy as np\n",
    "import matplotlib.pyplot as plt\n",
    "from keras.initializers import RandomUniform\n",
    "import os\n",
    "import random as rn\n",
    "from tensorflow import set_random_seed\n",
    "from keras.callbacks import EarlyStopping\n",
    "from keras import regularizers\n",
    "import pickle\n",
    "from os import path\n",
    "import tensorflow as tf\n",
    "from keras import backend as K\n",
    "from keras.layers import *\n",
    "from keras.models import Model\n",
    "from keras.callbacks import ModelCheckpoint\n",
    "from keras.initializers import Constant\n",
    "from sklearn.model_selection import train_test_split\n",
    "from keras.preprocessing.text import *\n",
    "from keras.preprocessing.sequence import pad_sequences\n",
    "from keras.utils import to_categorical"
   ]
  },
  {
   "cell_type": "code",
   "execution_count": 3,
   "metadata": {},
   "outputs": [],
   "source": [
    "def loadGloveModel(gloveFile):\n",
    "    if path.exists(\"./embeddings/glove_pickle.pkl\"):\n",
    "        with open('./embeddings/glove_pickle.pkl', 'rb') as f:\n",
    "            glov = pickle.load(f)\n",
    "            print('found it')\n",
    "            return glov\n",
    "    \n",
    "    print(\"Loading Glove Model\")\n",
    "    f = open(gloveFile,'r')\n",
    "    model = {}\n",
    "    for line in f:\n",
    "        splitLine = line.split()\n",
    "        word = splitLine[0]\n",
    "        embedding = np.array([float(val) for val in splitLine[1:]])\n",
    "        model[word] = embedding\n",
    "    print(\"Done.\",len(model),\" words loaded!\")\n",
    "    \n",
    "    #glov = loadGloveModel('./embeddings/glove_german_vec.txt')\n",
    "    with open('./embeddings/glove_pickle.pkl', \"wb\") as f:\n",
    "        pickle.dump(model, f)\n",
    "    return model"
   ]
  },
  {
   "cell_type": "code",
   "execution_count": 4,
   "metadata": {},
   "outputs": [
    {
     "name": "stdout",
     "output_type": "stream",
     "text": [
      "Loading Glove Model\n"
     ]
    },
    {
     "ename": "FileNotFoundError",
     "evalue": "[Errno 2] No such file or directory: './embeddings/glove_german_vec.txt'",
     "output_type": "error",
     "traceback": [
      "\u001b[1;31m---------------------------------------------------------------------------\u001b[0m",
      "\u001b[1;31mFileNotFoundError\u001b[0m                         Traceback (most recent call last)",
      "\u001b[1;32m<ipython-input-4-71e3f81da8eb>\u001b[0m in \u001b[0;36m<module>\u001b[1;34m\u001b[0m\n\u001b[1;32m----> 1\u001b[1;33m \u001b[0mglov\u001b[0m \u001b[1;33m=\u001b[0m \u001b[0mloadGloveModel\u001b[0m\u001b[1;33m(\u001b[0m\u001b[1;34m'./embeddings/glove_german_vec.txt'\u001b[0m\u001b[1;33m)\u001b[0m\u001b[1;33m\u001b[0m\u001b[1;33m\u001b[0m\u001b[0m\n\u001b[0m",
      "\u001b[1;32m<ipython-input-3-4bef8bc24181>\u001b[0m in \u001b[0;36mloadGloveModel\u001b[1;34m(gloveFile)\u001b[0m\n\u001b[0;32m      7\u001b[0m \u001b[1;33m\u001b[0m\u001b[0m\n\u001b[0;32m      8\u001b[0m     \u001b[0mprint\u001b[0m\u001b[1;33m(\u001b[0m\u001b[1;34m\"Loading Glove Model\"\u001b[0m\u001b[1;33m)\u001b[0m\u001b[1;33m\u001b[0m\u001b[1;33m\u001b[0m\u001b[0m\n\u001b[1;32m----> 9\u001b[1;33m     \u001b[0mf\u001b[0m \u001b[1;33m=\u001b[0m \u001b[0mopen\u001b[0m\u001b[1;33m(\u001b[0m\u001b[0mgloveFile\u001b[0m\u001b[1;33m,\u001b[0m\u001b[1;34m'r'\u001b[0m\u001b[1;33m)\u001b[0m\u001b[1;33m\u001b[0m\u001b[1;33m\u001b[0m\u001b[0m\n\u001b[0m\u001b[0;32m     10\u001b[0m     \u001b[0mmodel\u001b[0m \u001b[1;33m=\u001b[0m \u001b[1;33m{\u001b[0m\u001b[1;33m}\u001b[0m\u001b[1;33m\u001b[0m\u001b[1;33m\u001b[0m\u001b[0m\n\u001b[0;32m     11\u001b[0m     \u001b[1;32mfor\u001b[0m \u001b[0mline\u001b[0m \u001b[1;32min\u001b[0m \u001b[0mf\u001b[0m\u001b[1;33m:\u001b[0m\u001b[1;33m\u001b[0m\u001b[1;33m\u001b[0m\u001b[0m\n",
      "\u001b[1;31mFileNotFoundError\u001b[0m: [Errno 2] No such file or directory: './embeddings/glove_german_vec.txt'"
     ]
    }
   ],
   "source": [
    "glov = loadGloveModel('./embeddings/glove_german_vec.txt')"
   ]
  },
  {
   "cell_type": "code",
   "execution_count": 4,
   "metadata": {},
   "outputs": [],
   "source": [
    "#!wget http://nlp.stanford.edu/data/glove.6B.zip #glove eng\n",
    "#!wget http://int-emb-glove-de-wiki.obs.eu-de.otc.t-systems.com/vectors.txt # glove deu\n",
    "#!wget http://int-emb-glove-de-wiki.obs.eu-de.otc.t-systems.com/vocab.txt # glove deu\n",
    "# !pip install -U imbalanced-learn\n",
    "#!pip install h5py"
   ]
  },
  {
   "cell_type": "code",
   "execution_count": 2,
   "metadata": {},
   "outputs": [
    {
     "ename": "InternalError",
     "evalue": "cudaGetDevice() failed. Status: CUDA driver version is insufficient for CUDA runtime version",
     "output_type": "error",
     "traceback": [
      "\u001b[1;31m---------------------------------------------------------------------------\u001b[0m",
      "\u001b[1;31mInternalError\u001b[0m                             Traceback (most recent call last)",
      "\u001b[1;32m<ipython-input-2-8953462cdf63>\u001b[0m in \u001b[0;36m<module>\u001b[1;34m\u001b[0m\n\u001b[1;32m----> 1\u001b[1;33m \u001b[0mdevice_name\u001b[0m \u001b[1;33m=\u001b[0m \u001b[0mtf\u001b[0m\u001b[1;33m.\u001b[0m\u001b[0mtest\u001b[0m\u001b[1;33m.\u001b[0m\u001b[0mgpu_device_name\u001b[0m\u001b[1;33m(\u001b[0m\u001b[1;33m)\u001b[0m\u001b[1;33m\u001b[0m\u001b[1;33m\u001b[0m\u001b[0m\n\u001b[0m\u001b[0;32m      2\u001b[0m \u001b[1;32mif\u001b[0m \u001b[0mdevice_name\u001b[0m \u001b[1;33m!=\u001b[0m \u001b[1;34m'/device:GPU:0'\u001b[0m\u001b[1;33m:\u001b[0m\u001b[1;33m\u001b[0m\u001b[1;33m\u001b[0m\u001b[0m\n\u001b[0;32m      3\u001b[0m     \u001b[1;32mraise\u001b[0m \u001b[0mSystemError\u001b[0m\u001b[1;33m(\u001b[0m\u001b[1;34m'GPU device not found'\u001b[0m\u001b[1;33m)\u001b[0m\u001b[1;33m\u001b[0m\u001b[1;33m\u001b[0m\u001b[0m\n\u001b[0;32m      4\u001b[0m \u001b[0mprint\u001b[0m\u001b[1;33m(\u001b[0m\u001b[1;34m'Found GPU at: {}'\u001b[0m\u001b[1;33m.\u001b[0m\u001b[0mformat\u001b[0m\u001b[1;33m(\u001b[0m\u001b[0mdevice_name\u001b[0m\u001b[1;33m)\u001b[0m\u001b[1;33m)\u001b[0m\u001b[1;33m\u001b[0m\u001b[1;33m\u001b[0m\u001b[0m\n\u001b[0;32m      5\u001b[0m \u001b[1;33m\u001b[0m\u001b[0m\n",
      "\u001b[1;32m~\\Anaconda3\\lib\\site-packages\\tensorflow\\python\\framework\\test_util.py\u001b[0m in \u001b[0;36mgpu_device_name\u001b[1;34m()\u001b[0m\n\u001b[0;32m    103\u001b[0m \u001b[1;32mdef\u001b[0m \u001b[0mgpu_device_name\u001b[0m\u001b[1;33m(\u001b[0m\u001b[1;33m)\u001b[0m\u001b[1;33m:\u001b[0m\u001b[1;33m\u001b[0m\u001b[1;33m\u001b[0m\u001b[0m\n\u001b[0;32m    104\u001b[0m   \u001b[1;34m\"\"\"Returns the name of a GPU device if available or the empty string.\"\"\"\u001b[0m\u001b[1;33m\u001b[0m\u001b[1;33m\u001b[0m\u001b[0m\n\u001b[1;32m--> 105\u001b[1;33m   \u001b[1;32mfor\u001b[0m \u001b[0mx\u001b[0m \u001b[1;32min\u001b[0m \u001b[0mdevice_lib\u001b[0m\u001b[1;33m.\u001b[0m\u001b[0mlist_local_devices\u001b[0m\u001b[1;33m(\u001b[0m\u001b[1;33m)\u001b[0m\u001b[1;33m:\u001b[0m\u001b[1;33m\u001b[0m\u001b[1;33m\u001b[0m\u001b[0m\n\u001b[0m\u001b[0;32m    106\u001b[0m     \u001b[1;32mif\u001b[0m \u001b[0mx\u001b[0m\u001b[1;33m.\u001b[0m\u001b[0mdevice_type\u001b[0m \u001b[1;33m==\u001b[0m \u001b[1;34m\"GPU\"\u001b[0m \u001b[1;32mor\u001b[0m \u001b[0mx\u001b[0m\u001b[1;33m.\u001b[0m\u001b[0mdevice_type\u001b[0m \u001b[1;33m==\u001b[0m \u001b[1;34m\"SYCL\"\u001b[0m\u001b[1;33m:\u001b[0m\u001b[1;33m\u001b[0m\u001b[1;33m\u001b[0m\u001b[0m\n\u001b[0;32m    107\u001b[0m       \u001b[1;32mreturn\u001b[0m \u001b[0mcompat\u001b[0m\u001b[1;33m.\u001b[0m\u001b[0mas_str\u001b[0m\u001b[1;33m(\u001b[0m\u001b[0mx\u001b[0m\u001b[1;33m.\u001b[0m\u001b[0mname\u001b[0m\u001b[1;33m)\u001b[0m\u001b[1;33m\u001b[0m\u001b[1;33m\u001b[0m\u001b[0m\n",
      "\u001b[1;32m~\\Anaconda3\\lib\\site-packages\\tensorflow\\python\\client\\device_lib.py\u001b[0m in \u001b[0;36mlist_local_devices\u001b[1;34m(session_config)\u001b[0m\n\u001b[0;32m     39\u001b[0m   return [\n\u001b[0;32m     40\u001b[0m       \u001b[0m_convert\u001b[0m\u001b[1;33m(\u001b[0m\u001b[0ms\u001b[0m\u001b[1;33m)\u001b[0m\u001b[1;33m\u001b[0m\u001b[1;33m\u001b[0m\u001b[0m\n\u001b[1;32m---> 41\u001b[1;33m       \u001b[1;32mfor\u001b[0m \u001b[0ms\u001b[0m \u001b[1;32min\u001b[0m \u001b[0mpywrap_tensorflow\u001b[0m\u001b[1;33m.\u001b[0m\u001b[0mlist_devices\u001b[0m\u001b[1;33m(\u001b[0m\u001b[0msession_config\u001b[0m\u001b[1;33m=\u001b[0m\u001b[0msession_config\u001b[0m\u001b[1;33m)\u001b[0m\u001b[1;33m\u001b[0m\u001b[1;33m\u001b[0m\u001b[0m\n\u001b[0m\u001b[0;32m     42\u001b[0m   ]\n",
      "\u001b[1;32m~\\Anaconda3\\lib\\site-packages\\tensorflow\\python\\pywrap_tensorflow_internal.py\u001b[0m in \u001b[0;36mlist_devices\u001b[1;34m(session_config)\u001b[0m\n\u001b[0;32m   2200\u001b[0m     \u001b[1;32mreturn\u001b[0m \u001b[0mListDevicesWithSessionConfig\u001b[0m\u001b[1;33m(\u001b[0m\u001b[0msession_config\u001b[0m\u001b[1;33m.\u001b[0m\u001b[0mSerializeToString\u001b[0m\u001b[1;33m(\u001b[0m\u001b[1;33m)\u001b[0m\u001b[1;33m)\u001b[0m\u001b[1;33m\u001b[0m\u001b[1;33m\u001b[0m\u001b[0m\n\u001b[0;32m   2201\u001b[0m   \u001b[1;32melse\u001b[0m\u001b[1;33m:\u001b[0m\u001b[1;33m\u001b[0m\u001b[1;33m\u001b[0m\u001b[0m\n\u001b[1;32m-> 2202\u001b[1;33m     \u001b[1;32mreturn\u001b[0m \u001b[0mListDevices\u001b[0m\u001b[1;33m(\u001b[0m\u001b[1;33m)\u001b[0m\u001b[1;33m\u001b[0m\u001b[1;33m\u001b[0m\u001b[0m\n\u001b[0m\u001b[0;32m   2203\u001b[0m \u001b[1;33m\u001b[0m\u001b[0m\n\u001b[0;32m   2204\u001b[0m \u001b[1;33m\u001b[0m\u001b[0m\n",
      "\u001b[1;31mInternalError\u001b[0m: cudaGetDevice() failed. Status: CUDA driver version is insufficient for CUDA runtime version"
     ]
    }
   ],
   "source": [
    "device_name = tf.test.gpu_device_name()\n",
    "if device_name != '/device:GPU:0':\n",
    "    raise SystemError('GPU device not found')\n",
    "print('Found GPU at: {}'.format(device_name))\n",
    "\n",
    "K.tensorflow_backend._get_available_gpus()"
   ]
  },
  {
   "cell_type": "markdown",
   "metadata": {},
   "source": [
    "To explicitly specify a project when constructing the client, set the `project` parameter:"
   ]
  },
  {
   "cell_type": "code",
   "execution_count": 5,
   "metadata": {},
   "outputs": [
    {
     "name": "stdout",
     "output_type": "stream",
     "text": [
      "Blobs in ecb-fsf-hackathon-base-data:\n",
      "\tHackathon Description for Participants.pdf\n",
      "\tmarktguru_dev.csv\n",
      "\tmarktguru_train.csv\n",
      "\tmarktguru_unclassified.csv\n",
      "\tsample.csv\n",
      "\twebscrap_dev.csv\n",
      "\twebscrap_train.csv\n",
      "\twebscrap_unclassified.csv\n",
      "gs://ecb-fsf-hackathon-base-data/Hackathon Description for Participants.pdf\n",
      "gs://ecb-fsf-hackathon-base-data/marktguru_dev.csv\n",
      "gs://ecb-fsf-hackathon-base-data/marktguru_train.csv\n",
      "gs://ecb-fsf-hackathon-base-data/marktguru_unclassified.csv\n",
      "gs://ecb-fsf-hackathon-base-data/sample.csv\n",
      "gs://ecb-fsf-hackathon-base-data/webscrap_dev.csv\n",
      "gs://ecb-fsf-hackathon-base-data/webscrap_train.csv\n",
      "gs://ecb-fsf-hackathon-base-data/webscrap_unclassified.csv\n"
     ]
    }
   ],
   "source": [
    "blobs = bucket.list_blobs()\n",
    "\n",
    "print(\"Blobs in {}:\".format(bucket.name))\n",
    "for item in blobs:\n",
    "    print(\"\\t\" + item.name)\n",
    "    \n",
    "!gsutil ls gs://{bucket_name}"
   ]
  },
  {
   "cell_type": "code",
   "execution_count": 4,
   "metadata": {},
   "outputs": [],
   "source": [
    "def read_marktguru(path_):\n",
    "    df = pd.read_csv(path_, dtype={'Coicop5_Final' : str, 'Coicop4_Final' : str, 'Coicop3_Final' : str, 'Coicop2_Final' : str})\n",
    "    \n",
    "    df['product_name'] = df['product_name'].apply(str)\n",
    "    df['brand_name'] = df['brand_name'].apply(str)\n",
    "    \n",
    "    for i in range(df.shape[0]):\n",
    "        if 'not_available' not in df.loc[i, 'brand_name']:\n",
    "            if df.loc[i, 'brand_name'] not in df.loc[i, 'product_name']:\n",
    "                df.loc[i, 'product_name'] = df.loc[i, 'brand_name'] + ' ' + df.loc[i, 'product_name']\n",
    "            \n",
    "    df['product_description'] = df['offer_description'].apply(str)\n",
    "    df['category'] = df['categories']\n",
    "    df['source'] = 1\n",
    "    return df\n",
    "\n",
    "def read_webscrapped(path_):\n",
    "    df = pd.read_csv(path_, dtype={'Coicop5_Final' : str, 'Coicop4_Final' : str, 'Coicop3_Final' : str, 'Coicop2_Final' : str})\n",
    "    df['product_name'] = df['product_name'].apply(str)\n",
    "    df['product_description'] = df['product_description'].apply(str)\n",
    "    df['source'] = 0\n",
    "    return df"
   ]
  },
  {
   "cell_type": "code",
   "execution_count": 9,
   "metadata": {},
   "outputs": [],
   "source": [
    "train_ws = read_webscrapped('./data/webscrap_train.csv')\n",
    "train_mg = read_marktguru('./data/marktguru_train.csv')\n",
    "val_ws = read_webscrapped('./data/webscrap_dev.csv')\n",
    "val_mg = read_marktguru('./data/marktguru_dev.csv')\n",
    "\n",
    "test_ws = read_webscrapped('./data/test_ws.csv')\n",
    "test_mg = read_marktguru('./data/test_mg.csv')"
   ]
  },
  {
   "cell_type": "code",
   "execution_count": 16,
   "metadata": {},
   "outputs": [
    {
     "data": {
      "text/plain": [
       "(1199, 25)"
      ]
     },
     "execution_count": 16,
     "metadata": {},
     "output_type": "execute_result"
    }
   ],
   "source": [
    "val_ws.shape"
   ]
  },
  {
   "cell_type": "code",
   "execution_count": 7,
   "metadata": {},
   "outputs": [
    {
     "data": {
      "text/html": [
       "<div>\n",
       "<style scoped>\n",
       "    .dataframe tbody tr th:only-of-type {\n",
       "        vertical-align: middle;\n",
       "    }\n",
       "\n",
       "    .dataframe tbody tr th {\n",
       "        vertical-align: top;\n",
       "    }\n",
       "\n",
       "    .dataframe thead th {\n",
       "        text-align: right;\n",
       "    }\n",
       "</style>\n",
       "<table border=\"1\" class=\"dataframe\">\n",
       "  <thead>\n",
       "    <tr style=\"text-align: right;\">\n",
       "      <th></th>\n",
       "      <th>Unnamed: 0</th>\n",
       "      <th>Unnamed: 0.1</th>\n",
       "      <th>category</th>\n",
       "      <th>url</th>\n",
       "      <th>product_name</th>\n",
       "      <th>product_description</th>\n",
       "      <th>product_id_store</th>\n",
       "      <th>product_id</th>\n",
       "      <th>volume</th>\n",
       "      <th>qty</th>\n",
       "      <th>...</th>\n",
       "      <th>price</th>\n",
       "      <th>scrape_time</th>\n",
       "      <th>shop</th>\n",
       "      <th>reduction</th>\n",
       "      <th>product</th>\n",
       "      <th>Predicted_COICOP_5_Category</th>\n",
       "      <th>Predicted_COICOP_4_Category</th>\n",
       "      <th>Predicted_COICOP_3_Category</th>\n",
       "      <th>Predicted_COICOP_2_Category</th>\n",
       "      <th>source</th>\n",
       "    </tr>\n",
       "  </thead>\n",
       "  <tbody>\n",
       "    <tr>\n",
       "      <th>0</th>\n",
       "      <td>0</td>\n",
       "      <td>0</td>\n",
       "      <td>Getränke Soft Drinks Fruchtsäfte &amp; Nektare Exo...</td>\n",
       "      <td>https://shop.rewe.de/p/dr-goerg-bio-kokoswasse...</td>\n",
       "      <td>Dr. Goerg Bio Kokoswasser 1l</td>\n",
       "      <td>Kokoswasser ist nicht zu verwechseln mit Kokos...</td>\n",
       "      <td>p/dr-goerg-bio-kokoswasser-1l/2695256</td>\n",
       "      <td>80a4b4b3b6958f5efd0fc10980ffc32c</td>\n",
       "      <td>1000ml</td>\n",
       "      <td>1000</td>\n",
       "      <td>...</td>\n",
       "      <td>4.99</td>\n",
       "      <td>2018-10-16 00:20:02</td>\n",
       "      <td>shop.rewe.de</td>\n",
       "      <td>False</td>\n",
       "      <td>https://shop.rewe.de/p/dr-goerg-bio-kokoswasse...</td>\n",
       "      <td>NaN</td>\n",
       "      <td>NaN</td>\n",
       "      <td>NaN</td>\n",
       "      <td>NaN</td>\n",
       "      <td>0</td>\n",
       "    </tr>\n",
       "    <tr>\n",
       "      <th>1</th>\n",
       "      <td>1</td>\n",
       "      <td>1</td>\n",
       "      <td>Getränke Bier &amp; -mischgetränke Bier Alt- &amp; Sch...</td>\n",
       "      <td>https://shop.rewe.de/p/koestritzer-schwarzbier...</td>\n",
       "      <td>Köstritzer Schwarzbier 6x0,33l</td>\n",
       "      <td>nan</td>\n",
       "      <td>p/koestritzer-schwarzbier-6x0-33l/4690281</td>\n",
       "      <td>ff2de78fb5fe42b97a8c0bb464c534f2</td>\n",
       "      <td>6x0,33l (1 l = 2,02 €)</td>\n",
       "      <td>0,33</td>\n",
       "      <td>...</td>\n",
       "      <td>3.99</td>\n",
       "      <td>2018-10-17 00:20:03</td>\n",
       "      <td>shop.rewe.de</td>\n",
       "      <td>False</td>\n",
       "      <td>https://shop.rewe.de/p/koestritzer-schwarzbier...</td>\n",
       "      <td>NaN</td>\n",
       "      <td>NaN</td>\n",
       "      <td>NaN</td>\n",
       "      <td>NaN</td>\n",
       "      <td>0</td>\n",
       "    </tr>\n",
       "    <tr>\n",
       "      <th>2</th>\n",
       "      <td>2</td>\n",
       "      <td>2</td>\n",
       "      <td>Lebensmittel Nudeln</td>\n",
       "      <td>https://www.edeka24.de/Lebensmittel/Nudeln/Bir...</td>\n",
       "      <td>Birkel Shipli</td>\n",
       "      <td>Frischeinudeln</td>\n",
       "      <td>TY4y6t3wbijnjwhGWBzBEd-1142</td>\n",
       "      <td>106f76b9f6f0751186887623fa5efe04</td>\n",
       "      <td>Inhalt: 500 g</td>\n",
       "      <td>500</td>\n",
       "      <td>...</td>\n",
       "      <td>1.69</td>\n",
       "      <td>2018-11-08 00:20:02</td>\n",
       "      <td>www.edeka24.de</td>\n",
       "      <td>False</td>\n",
       "      <td>https://www.edeka24.de/Lebensmittel/Nudeln/Bir...</td>\n",
       "      <td>NaN</td>\n",
       "      <td>NaN</td>\n",
       "      <td>NaN</td>\n",
       "      <td>NaN</td>\n",
       "      <td>0</td>\n",
       "    </tr>\n",
       "    <tr>\n",
       "      <th>3</th>\n",
       "      <td>3</td>\n",
       "      <td>3</td>\n",
       "      <td>Getränke Soft Drinks Fruchtsäfte &amp; Nektare Meh...</td>\n",
       "      <td>https://shop.rewe.de/p/capri-sun-safari-fruech...</td>\n",
       "      <td>Capri Sun Safari Früchte Multipack 10x200ml</td>\n",
       "      <td>nan</td>\n",
       "      <td>p/capri-sun-safari-fruechte-multipack-10x200ml...</td>\n",
       "      <td>875afe95da4f02484a512ebbed30736d</td>\n",
       "      <td>10x0,20l (1 l = 1,25 €)</td>\n",
       "      <td>0,20</td>\n",
       "      <td>...</td>\n",
       "      <td>2.49</td>\n",
       "      <td>2018-10-23 00:20:02</td>\n",
       "      <td>shop.rewe.de</td>\n",
       "      <td>True</td>\n",
       "      <td>https://shop.rewe.de/p/capri-sun-safari-fruech...</td>\n",
       "      <td>NaN</td>\n",
       "      <td>NaN</td>\n",
       "      <td>NaN</td>\n",
       "      <td>NaN</td>\n",
       "      <td>0</td>\n",
       "    </tr>\n",
       "    <tr>\n",
       "      <th>4</th>\n",
       "      <td>4</td>\n",
       "      <td>4</td>\n",
       "      <td>Tiefkühl Eiscreme &amp; Eiswürfel Bechereis</td>\n",
       "      <td>https://shop.rewe.de/p/haeagen-dazs-vanilla-ca...</td>\n",
       "      <td>Häagen Dazs Vanilla Caramel Brownie 500ml</td>\n",
       "      <td>Unsere Sorte Häagen-Dazs Vanilla Caramel Brown...</td>\n",
       "      <td>p/haeagen-dazs-vanilla-caramel-brownie-500ml/1...</td>\n",
       "      <td>319abd43a21d327d52d1f6cd761e99c8</td>\n",
       "      <td>500ml (1 l = 9,98 €)</td>\n",
       "      <td>500</td>\n",
       "      <td>...</td>\n",
       "      <td>4.99</td>\n",
       "      <td>2018-09-17 00:40:02</td>\n",
       "      <td>shop.rewe.de</td>\n",
       "      <td>True</td>\n",
       "      <td>https://shop.rewe.de/p/haeagen-dazs-vanilla-ca...</td>\n",
       "      <td>NaN</td>\n",
       "      <td>NaN</td>\n",
       "      <td>NaN</td>\n",
       "      <td>NaN</td>\n",
       "      <td>0</td>\n",
       "    </tr>\n",
       "  </tbody>\n",
       "</table>\n",
       "<p>5 rows × 21 columns</p>\n",
       "</div>"
      ],
      "text/plain": [
       "   Unnamed: 0  Unnamed: 0.1  \\\n",
       "0           0             0   \n",
       "1           1             1   \n",
       "2           2             2   \n",
       "3           3             3   \n",
       "4           4             4   \n",
       "\n",
       "                                            category  \\\n",
       "0  Getränke Soft Drinks Fruchtsäfte & Nektare Exo...   \n",
       "1  Getränke Bier & -mischgetränke Bier Alt- & Sch...   \n",
       "2                                Lebensmittel Nudeln   \n",
       "3  Getränke Soft Drinks Fruchtsäfte & Nektare Meh...   \n",
       "4            Tiefkühl Eiscreme & Eiswürfel Bechereis   \n",
       "\n",
       "                                                 url  \\\n",
       "0  https://shop.rewe.de/p/dr-goerg-bio-kokoswasse...   \n",
       "1  https://shop.rewe.de/p/koestritzer-schwarzbier...   \n",
       "2  https://www.edeka24.de/Lebensmittel/Nudeln/Bir...   \n",
       "3  https://shop.rewe.de/p/capri-sun-safari-fruech...   \n",
       "4  https://shop.rewe.de/p/haeagen-dazs-vanilla-ca...   \n",
       "\n",
       "                                  product_name  \\\n",
       "0                 Dr. Goerg Bio Kokoswasser 1l   \n",
       "1               Köstritzer Schwarzbier 6x0,33l   \n",
       "2                                Birkel Shipli   \n",
       "3  Capri Sun Safari Früchte Multipack 10x200ml   \n",
       "4    Häagen Dazs Vanilla Caramel Brownie 500ml   \n",
       "\n",
       "                                 product_description  \\\n",
       "0  Kokoswasser ist nicht zu verwechseln mit Kokos...   \n",
       "1                                                nan   \n",
       "2                                     Frischeinudeln   \n",
       "3                                                nan   \n",
       "4  Unsere Sorte Häagen-Dazs Vanilla Caramel Brown...   \n",
       "\n",
       "                                    product_id_store  \\\n",
       "0              p/dr-goerg-bio-kokoswasser-1l/2695256   \n",
       "1          p/koestritzer-schwarzbier-6x0-33l/4690281   \n",
       "2                        TY4y6t3wbijnjwhGWBzBEd-1142   \n",
       "3  p/capri-sun-safari-fruechte-multipack-10x200ml...   \n",
       "4  p/haeagen-dazs-vanilla-caramel-brownie-500ml/1...   \n",
       "\n",
       "                         product_id                   volume   qty  ... price  \\\n",
       "0  80a4b4b3b6958f5efd0fc10980ffc32c                   1000ml  1000  ...  4.99   \n",
       "1  ff2de78fb5fe42b97a8c0bb464c534f2   6x0,33l (1 l = 2,02 €)  0,33  ...  3.99   \n",
       "2  106f76b9f6f0751186887623fa5efe04            Inhalt: 500 g   500  ...  1.69   \n",
       "3  875afe95da4f02484a512ebbed30736d  10x0,20l (1 l = 1,25 €)  0,20  ...  2.49   \n",
       "4  319abd43a21d327d52d1f6cd761e99c8     500ml (1 l = 9,98 €)   500  ...  4.99   \n",
       "\n",
       "           scrape_time            shop reduction  \\\n",
       "0  2018-10-16 00:20:02    shop.rewe.de     False   \n",
       "1  2018-10-17 00:20:03    shop.rewe.de     False   \n",
       "2  2018-11-08 00:20:02  www.edeka24.de     False   \n",
       "3  2018-10-23 00:20:02    shop.rewe.de      True   \n",
       "4  2018-09-17 00:40:02    shop.rewe.de      True   \n",
       "\n",
       "                                             product  \\\n",
       "0  https://shop.rewe.de/p/dr-goerg-bio-kokoswasse...   \n",
       "1  https://shop.rewe.de/p/koestritzer-schwarzbier...   \n",
       "2  https://www.edeka24.de/Lebensmittel/Nudeln/Bir...   \n",
       "3  https://shop.rewe.de/p/capri-sun-safari-fruech...   \n",
       "4  https://shop.rewe.de/p/haeagen-dazs-vanilla-ca...   \n",
       "\n",
       "  Predicted_COICOP_5_Category  Predicted_COICOP_4_Category  \\\n",
       "0                         NaN                          NaN   \n",
       "1                         NaN                          NaN   \n",
       "2                         NaN                          NaN   \n",
       "3                         NaN                          NaN   \n",
       "4                         NaN                          NaN   \n",
       "\n",
       "   Predicted_COICOP_3_Category  Predicted_COICOP_2_Category  source  \n",
       "0                          NaN                          NaN       0  \n",
       "1                          NaN                          NaN       0  \n",
       "2                          NaN                          NaN       0  \n",
       "3                          NaN                          NaN       0  \n",
       "4                          NaN                          NaN       0  \n",
       "\n",
       "[5 rows x 21 columns]"
      ]
     },
     "execution_count": 7,
     "metadata": {},
     "output_type": "execute_result"
    }
   ],
   "source": [
    "test_ws.head()"
   ]
  },
  {
   "cell_type": "code",
   "execution_count": 17,
   "metadata": {},
   "outputs": [],
   "source": [
    "cols = ['product_name', 'product_description', 'source', 'category', 'Coicop2_Final', 'Coicop3_Final', 'Coicop4_Final', 'Coicop5_Final']\n",
    "train = train_mg[cols].append(train_ws[cols]).append(val_ws[cols]).append(val_mg[cols])"
   ]
  },
  {
   "cell_type": "code",
   "execution_count": 12,
   "metadata": {},
   "outputs": [],
   "source": [
    "# train_ws.to_csv('./data/train_ws.csv')\n",
    "# train_mg.to_csv('./data/train_mg.csv')\n",
    "# val_ws.to_csv('./data/val_ws.csv')\n",
    "# val_mg.to_csv('./data/val_mg.csv')\n",
    "# test_ws.to_csv('./data/test_ws.csv')\n",
    "# test_mg.to_csv('./data/test_mg.csv')\n",
    "# train.to_csv('./data/train.csv')"
   ]
  },
  {
   "cell_type": "code",
   "execution_count": 18,
   "metadata": {},
   "outputs": [],
   "source": [
    "del train_mg, train_ws, val_ws, val_mg"
   ]
  },
  {
   "cell_type": "code",
   "execution_count": 19,
   "metadata": {},
   "outputs": [
    {
     "name": "stdout",
     "output_type": "stream",
     "text": [
      "01    17099\n",
      "02     2303\n",
      "Name: Coicop2_Final, dtype: int64\n"
     ]
    },
    {
     "data": {
      "text/plain": [
       "<matplotlib.axes._subplots.AxesSubplot at 0x1d48ae79438>"
      ]
     },
     "execution_count": 19,
     "metadata": {},
     "output_type": "execute_result"
    },
    {
     "data": {
      "image/png": "[encoded data removed]",
      "text/plain": [
       "<Figure size 432x288 with 1 Axes>"
      ]
     },
     "metadata": {
      "needs_background": "light"
     },
     "output_type": "display_data"
    }
   ],
   "source": [
    "print(train['Coicop2_Final'].value_counts())\n",
    "train['Coicop2_Final'].value_counts().plot(kind='bar')"
   ]
  },
  {
   "cell_type": "code",
   "execution_count": 15,
   "metadata": {},
   "outputs": [
    {
     "data": {
      "text/plain": [
       "11.869910318523862"
      ]
     },
     "execution_count": 15,
     "metadata": {},
     "output_type": "execute_result"
    }
   ],
   "source": [
    "(2303 / (17099 + 2303)) * 100"
   ]
  },
  {
   "cell_type": "code",
   "execution_count": 16,
   "metadata": {},
   "outputs": [
    {
     "data": {
      "text/plain": [
       "6.578775616760215"
      ]
     },
     "execution_count": 16,
     "metadata": {},
     "output_type": "execute_result"
    }
   ],
   "source": [
    "(504 / (7157 + 504)) * 100"
   ]
  },
  {
   "cell_type": "code",
   "execution_count": 20,
   "metadata": {},
   "outputs": [
    {
     "name": "stdout",
     "output_type": "stream",
     "text": [
      "01    17099\n",
      "02     2303\n",
      "Name: Coicop2_Final, dtype: int64\n"
     ]
    },
    {
     "data": {
      "text/plain": [
       "<matplotlib.axes._subplots.AxesSubplot at 0x1d48b2db710>"
      ]
     },
     "execution_count": 20,
     "metadata": {},
     "output_type": "execute_result"
    },
    {
     "data": {
      "image/png": "[encoded data removed]",
      "text/plain": [
       "<Figure size 432x288 with 1 Axes>"
      ]
     },
     "metadata": {
      "needs_background": "light"
     },
     "output_type": "display_data"
    }
   ],
   "source": [
    "print(train['Coicop2_Final'].value_counts())\n",
    "train['Coicop2_Final'].value_counts().plot(kind='bar')"
   ]
  },
  {
   "cell_type": "code",
   "execution_count": 21,
   "metadata": {},
   "outputs": [
    {
     "data": {
      "text/html": [
       "<div>\n",
       "<style scoped>\n",
       "    .dataframe tbody tr th:only-of-type {\n",
       "        vertical-align: middle;\n",
       "    }\n",
       "\n",
       "    .dataframe tbody tr th {\n",
       "        vertical-align: top;\n",
       "    }\n",
       "\n",
       "    .dataframe thead th {\n",
       "        text-align: right;\n",
       "    }\n",
       "</style>\n",
       "<table border=\"1\" class=\"dataframe\">\n",
       "  <thead>\n",
       "    <tr style=\"text-align: right;\">\n",
       "      <th></th>\n",
       "      <th>product_name</th>\n",
       "      <th>product_description</th>\n",
       "      <th>source</th>\n",
       "      <th>category</th>\n",
       "      <th>Coicop2_Final</th>\n",
       "      <th>Coicop3_Final</th>\n",
       "      <th>Coicop4_Final</th>\n",
       "      <th>Coicop5_Final</th>\n",
       "    </tr>\n",
       "  </thead>\n",
       "  <tbody>\n",
       "    <tr>\n",
       "      <th>0</th>\n",
       "      <td>Chio Popcorn</td>\n",
       "      <td>Süß oder Toffee Karamell 120-g-Packung</td>\n",
       "      <td>1</td>\n",
       "      <td>Popcorn Knabberartikel Lebensmittel</td>\n",
       "      <td>01</td>\n",
       "      <td>011</td>\n",
       "      <td>0111</td>\n",
       "      <td>01118</td>\n",
       "    </tr>\n",
       "  </tbody>\n",
       "</table>\n",
       "</div>"
      ],
      "text/plain": [
       "   product_name                     product_description  source  \\\n",
       "0  Chio Popcorn  Süß oder Toffee Karamell 120-g-Packung       1   \n",
       "\n",
       "                              category Coicop2_Final Coicop3_Final  \\\n",
       "0  Popcorn Knabberartikel Lebensmittel            01           011   \n",
       "\n",
       "  Coicop4_Final Coicop5_Final  \n",
       "0          0111         01118  "
      ]
     },
     "execution_count": 21,
     "metadata": {},
     "output_type": "execute_result"
    }
   ],
   "source": [
    "train.head(1)"
   ]
  },
  {
   "cell_type": "code",
   "execution_count": 22,
   "metadata": {},
   "outputs": [
    {
     "name": "stdout",
     "output_type": "stream",
     "text": [
      "011    14710\n",
      "012     2389\n",
      "021     2079\n",
      "022      224\n",
      "Name: Coicop3_Final, dtype: int64\n"
     ]
    },
    {
     "data": {
      "text/plain": [
       "<matplotlib.axes._subplots.AxesSubplot at 0x1d48b29a048>"
      ]
     },
     "execution_count": 22,
     "metadata": {},
     "output_type": "execute_result"
    },
    {
     "data": {
      "image/png": "[encoded data removed]",
      "text/plain": [
       "<Figure size 432x288 with 1 Axes>"
      ]
     },
     "metadata": {
      "needs_background": "light"
     },
     "output_type": "display_data"
    }
   ],
   "source": [
    "print(train['Coicop3_Final'].value_counts())\n",
    "train['Coicop3_Final'].value_counts().plot(kind='bar')"
   ]
  },
  {
   "cell_type": "code",
   "execution_count": 23,
   "metadata": {},
   "outputs": [
    {
     "data": {
      "text/plain": [
       "<matplotlib.axes._subplots.AxesSubplot at 0x1d48a12bcc0>"
      ]
     },
     "execution_count": 23,
     "metadata": {},
     "output_type": "execute_result"
    },
    {
     "data": {
      "image/png": "[encoded data removed]",
      "text/plain": [
       "<Figure size 432x288 with 1 Axes>"
      ]
     },
     "metadata": {
      "needs_background": "light"
     },
     "output_type": "display_data"
    }
   ],
   "source": [
    "train['Coicop4_Final'].value_counts().plot(kind='bar')"
   ]
  },
  {
   "cell_type": "code",
   "execution_count": 24,
   "metadata": {},
   "outputs": [
    {
     "name": "stdout",
     "output_type": "stream",
     "text": [
      "01171    1037\n",
      "02121    1021\n",
      "01114     800\n",
      "01191     705\n",
      "01161     612\n",
      "01127     579\n",
      "01116     569\n",
      "01212     567\n",
      "02111     530\n",
      "01182     474\n",
      "01223     467\n",
      "01184     463\n",
      "01211     450\n",
      "01221     444\n",
      "01117     415\n",
      "01173     415\n",
      "01192     408\n",
      "01163     406\n",
      "01222     395\n",
      "01199     370\n",
      "01164     349\n",
      "01124     348\n",
      "01183     335\n",
      "01185     334\n",
      "01121     331\n",
      "01174     307\n",
      "01146     303\n",
      "01118     298\n",
      "01136     291\n",
      "01145     281\n",
      "         ... \n",
      "01123     166\n",
      "01175     165\n",
      "02131     163\n",
      "01154     158\n",
      "02133     149\n",
      "01126     149\n",
      "01194     140\n",
      "01152      95\n",
      "01131      88\n",
      "01176      68\n",
      "01132      68\n",
      "01213      66\n",
      "01153      65\n",
      "02122      64\n",
      "02132      60\n",
      "01134      59\n",
      "01133      58\n",
      "01135      55\n",
      "01141      54\n",
      "01162      49\n",
      "01155      44\n",
      "01143      44\n",
      "02203      41\n",
      "01186      40\n",
      "02124      37\n",
      "01142      36\n",
      "02134      29\n",
      "02123      18\n",
      "02202       9\n",
      "02112       8\n",
      "Name: Coicop5_Final, Length: 74, dtype: int64\n"
     ]
    },
    {
     "data": {
      "text/plain": [
       "<matplotlib.axes._subplots.AxesSubplot at 0x1d48b26e7b8>"
      ]
     },
     "execution_count": 24,
     "metadata": {},
     "output_type": "execute_result"
    },
    {
     "data": {
      "image/png": "[encoded data removed]",
      "text/plain": [
       "<Figure size 432x288 with 1 Axes>"
      ]
     },
     "metadata": {
      "needs_background": "light"
     },
     "output_type": "display_data"
    }
   ],
   "source": [
    "print(train['Coicop5_Final'].value_counts())\n",
    "train['Coicop5_Final'].value_counts().plot(kind='bar')"
   ]
  },
  {
   "cell_type": "code",
   "execution_count": 25,
   "metadata": {},
   "outputs": [
    {
     "data": {
      "text/plain": [
       "(19402, 8)"
      ]
     },
     "execution_count": 25,
     "metadata": {},
     "output_type": "execute_result"
    }
   ],
   "source": [
    "train.shape"
   ]
  },
  {
   "cell_type": "code",
   "execution_count": 26,
   "metadata": {},
   "outputs": [],
   "source": [
    "target = 'Coicop2_Final'\n",
    "max_words = 30\n",
    "max_words_pname = 6\n",
    "max_chars = 250"
   ]
  },
  {
   "cell_type": "code",
   "execution_count": 27,
   "metadata": {},
   "outputs": [],
   "source": [
    "def generate_label_map(df, col_):\n",
    "    label2idx = {}; idx2label = {}\n",
    "    count = 0\n",
    "    for i in df[col_].unique():\n",
    "        label2idx[i] = count\n",
    "        idx2label[count] = i\n",
    "        count= count + 1\n",
    "    return label2idx, idx2label\n",
    "    \n",
    "def get_label_onehot(labels, label2idx):\n",
    "    new_labels = []\n",
    "    for label in labels:\n",
    "        idx = label2idx[label]\n",
    "        new_label = []\n",
    "        for i in range(len(label2idx)):\n",
    "            if i == idx:\n",
    "                new_label.append(1)\n",
    "            else:\n",
    "                new_label.append(0)\n",
    "        new_labels.append(new_label)\n",
    "    return new_labels\n",
    "\n",
    "def inverse_transform(predictions, idx2label):\n",
    "    orig_labels = []\n",
    "    for i in predictions:\n",
    "        orig_labels.append(idx2label[i])\n",
    "    return orig_labels"
   ]
  },
  {
   "cell_type": "code",
   "execution_count": 28,
   "metadata": {},
   "outputs": [],
   "source": [
    "# orig code that works\n",
    "num = 10000\n",
    "\n",
    "#product_desc = c1['product_description'].values.tolist() + c2['product_description'].values.tolist()\n",
    "#product_name = c1['product_name'].values.tolist() + c2['product_name'].values.tolist()\n",
    "#labels = c1[target].values.tolist() + [i for i in np.zeros(1544)] #c2[target].values.tolist()\n",
    "\n",
    "#products = train_ws['product_name']\n",
    "product_desc = train['product_description']\n",
    "product_name = train['product_name']\n",
    "\n",
    "one_hot_labels = pd.get_dummies(train[target])\n",
    "label2idx, idx2label = generate_label_map(train, target) #TODO : save with the model\n",
    "one_hot_labels = get_label_onehot(train[target], label2idx)\n",
    "\n",
    "product_desc = [str(i) for i in product_desc]\n",
    "product_name = [str(i) for i in product_name]\n",
    "\n",
    "wordt = Tokenizer(lower=True)\n",
    "chart = Tokenizer(char_level = True, lower=True)\n",
    "\n",
    "wordt.fit_on_texts(product_name + product_desc)\n",
    "chart.fit_on_texts(product_name + product_desc)\n",
    "\n",
    "# print(wordt.word_counts)\n",
    "product_name_seq = wordt.texts_to_sequences(product_name)\n",
    "product_name_seq = pad_sequences(product_name_seq, maxlen= max_words_pname, padding='post', truncating = 'post')\n",
    "product_desc_seq = wordt.texts_to_sequences(product_desc)\n",
    "product_desc_seq = pad_sequences(product_desc_seq, maxlen= max_words, padding='post', truncating = 'post')\n",
    "\n",
    "char_desc_seq = chart.texts_to_sequences(product_desc)\n",
    "char_desc_seq = pad_sequences(char_desc_seq, maxlen= max_chars, padding='post', truncating = 'post')\n",
    "char_name_seq = chart.texts_to_sequences(product_name)\n",
    "char_name_seq = pad_sequences(char_name_seq, maxlen= max_chars, padding='post', truncating = 'post')"
   ]
  },
  {
   "cell_type": "code",
   "execution_count": 29,
   "metadata": {},
   "outputs": [],
   "source": []
  },
  {
   "cell_type": "code",
   "execution_count": 29,
   "metadata": {},
   "outputs": [],
   "source": [
    "label2idx, idx2label = generate_label_map(train, target) #TODO : save with the model\n",
    "one_hot_labels = get_label_onehot(train[target], label2idx)"
   ]
  },
  {
   "cell_type": "code",
   "execution_count": 30,
   "metadata": {},
   "outputs": [
    {
     "name": "stdout",
     "output_type": "stream",
     "text": [
      "23359\n"
     ]
    },
    {
     "ename": "NameError",
     "evalue": "name 'glov' is not defined",
     "output_type": "error",
     "traceback": [
      "\u001b[1;31m---------------------------------------------------------------------------\u001b[0m",
      "\u001b[1;31mNameError\u001b[0m                                 Traceback (most recent call last)",
      "\u001b[1;32m<ipython-input-30-d4d075109ae4>\u001b[0m in \u001b[0;36m<module>\u001b[1;34m\u001b[0m\n\u001b[0;32m     13\u001b[0m     \u001b[1;32mif\u001b[0m \u001b[0mi\u001b[0m \u001b[1;33m>\u001b[0m \u001b[0mmax_features\u001b[0m\u001b[1;33m:\u001b[0m\u001b[1;33m\u001b[0m\u001b[1;33m\u001b[0m\u001b[0m\n\u001b[0;32m     14\u001b[0m         \u001b[1;32mcontinue\u001b[0m\u001b[1;33m\u001b[0m\u001b[1;33m\u001b[0m\u001b[0m\n\u001b[1;32m---> 15\u001b[1;33m     \u001b[0membedding_vector\u001b[0m \u001b[1;33m=\u001b[0m \u001b[0mglov\u001b[0m\u001b[1;33m.\u001b[0m\u001b[0mget\u001b[0m\u001b[1;33m(\u001b[0m\u001b[0mword\u001b[0m\u001b[1;33m)\u001b[0m\u001b[1;33m\u001b[0m\u001b[1;33m\u001b[0m\u001b[0m\n\u001b[0m\u001b[0;32m     16\u001b[0m     \u001b[1;32mif\u001b[0m \u001b[0membedding_vector\u001b[0m \u001b[1;32mis\u001b[0m \u001b[1;32mnot\u001b[0m \u001b[1;32mNone\u001b[0m\u001b[1;33m:\u001b[0m\u001b[1;33m\u001b[0m\u001b[1;33m\u001b[0m\u001b[0m\n\u001b[0;32m     17\u001b[0m         \u001b[1;31m# we found the word - add that words vector to the matrix\u001b[0m\u001b[1;33m\u001b[0m\u001b[1;33m\u001b[0m\u001b[1;33m\u001b[0m\u001b[0m\n",
      "\u001b[1;31mNameError\u001b[0m: name 'glov' is not defined"
     ]
    }
   ],
   "source": [
    "word_index = wordt.word_index\n",
    "max_features = 25000\n",
    "num_words = min(max_features, len(word_index)) + 1\n",
    "print(num_words)\n",
    "\n",
    "embedding_dim = 300\n",
    "\n",
    "# first create a matrix of zeros, this is our embedding matrix\n",
    "embedding_matrix = np.zeros((num_words, embedding_dim))\n",
    "num_unknown = 0\n",
    "# for each word in out tokenizer lets try to find that work in our w2v model\n",
    "for word, i in word_index.items():\n",
    "    if i > max_features:\n",
    "        continue\n",
    "    embedding_vector = glov.get(word)\n",
    "    if embedding_vector is not None:\n",
    "        # we found the word - add that words vector to the matrix\n",
    "        embedding_matrix[i] = embedding_vector\n",
    "    else:\n",
    "        # doesn't exist, assign a random vector\n",
    "        embedding_matrix[i] = np.random.randn(embedding_dim)\n",
    "        num_unknown = num_unknown + 1\n",
    "print(num_unknown)"
   ]
  },
  {
   "cell_type": "code",
   "execution_count": 48,
   "metadata": {},
   "outputs": [
    {
     "name": "stdout",
     "output_type": "stream",
     "text": [
      "Train on 15521 samples, validate on 3881 samples\n",
      "Epoch 1/13\n",
      "15521/15521 [==============================] - 5s 350us/step - loss: 2.1035 - acc: 0.3446 - val_loss: 1.5298 - val_acc: 0.5676\n",
      "Epoch 2/13\n",
      "15521/15521 [==============================] - 4s 264us/step - loss: 1.3129 - acc: 0.6308 - val_loss: 1.0407 - val_acc: 0.7279\n",
      "Epoch 3/13\n",
      "15521/15521 [==============================] - 4s 265us/step - loss: 0.8685 - acc: 0.7723 - val_loss: 0.7906 - val_acc: 0.7998\n",
      "Epoch 4/13\n",
      "15521/15521 [==============================] - 4s 263us/step - loss: 0.6205 - acc: 0.8434 - val_loss: 0.6734 - val_acc: 0.8287\n",
      "Epoch 5/13\n",
      "15521/15521 [==============================] - 4s 265us/step - loss: 0.4638 - acc: 0.8792 - val_loss: 0.6085 - val_acc: 0.8464\n",
      "Epoch 6/13\n",
      "15521/15521 [==============================] - 4s 264us/step - loss: 0.3687 - acc: 0.9045 - val_loss: 0.5634 - val_acc: 0.8591\n",
      "Epoch 7/13\n",
      "15521/15521 [==============================] - 4s 266us/step - loss: 0.2988 - acc: 0.9196 - val_loss: 0.5342 - val_acc: 0.8658\n",
      "Epoch 8/13\n",
      "15521/15521 [==============================] - 4s 264us/step - loss: 0.2565 - acc: 0.9303 - val_loss: 0.5277 - val_acc: 0.8745\n",
      "Epoch 9/13\n",
      "15521/15521 [==============================] - 4s 265us/step - loss: 0.2083 - acc: 0.9436 - val_loss: 0.5293 - val_acc: 0.8781\n",
      "Epoch 10/13\n",
      "15521/15521 [==============================] - 4s 264us/step - loss: 0.1844 - acc: 0.9510 - val_loss: 0.5269 - val_acc: 0.8758\n",
      "Epoch 11/13\n",
      "15521/15521 [==============================] - 4s 264us/step - loss: 0.1638 - acc: 0.9566 - val_loss: 0.5311 - val_acc: 0.8804\n",
      "Epoch 12/13\n",
      "15521/15521 [==============================] - 4s 266us/step - loss: 0.1491 - acc: 0.9579 - val_loss: 0.5265 - val_acc: 0.8838\n",
      "Epoch 13/13\n",
      "15521/15521 [==============================] - 4s 265us/step - loss: 0.1314 - acc: 0.9650 - val_loss: 0.5224 - val_acc: 0.8838\n"
     ]
    }
   ],
   "source": [
    "#model 5\n",
    "SEED = 12545\n",
    "\n",
    "os.environ['PYTHONHASHSEED']=str(SEED)\n",
    "np.random.seed(SEED)\n",
    "set_random_seed(SEED)\n",
    "rn.seed(SEED)\n",
    "\n",
    "es = EarlyStopping(monitor='val_loss', mode='min', verbose=1, patience=40)\n",
    "mc = ModelCheckpoint('best_model.h5', monitor='val_loss', mode='min', save_best_only=True)\n",
    "#mc = ModelCheckpoint('best_model.h5', monitor='val_loss', mode='min', verbose=1)\n",
    "\n",
    "words_input = Input(shape=(max_words_pname, ), dtype='float32')\n",
    "word_embed_1 = Embedding(num_words, embedding_dim, embeddings_initializer=Constant(embedding_matrix), input_length=max_words_pname, trainable=True) (words_input)\n",
    "words_flatten_1 = Flatten()(word_embed_1)\n",
    "words_dropout_1 = Dropout(rate = 0.3)(words_flatten_1)\n",
    "\n",
    "words_1 = Dense(24, activation='tanh')(words_dropout_1)\n",
    "\n",
    "words_input2 = Input(shape=(max_words, ), dtype='float32')\n",
    "words_2 = Dense(24, activation='tanh')(words_input2)\n",
    "\n",
    "chars_input = Input(shape=(max_chars, ), dtype='float32')\n",
    "\n",
    "embed_char_out= Embedding(len(chart.word_counts), 10, embeddings_initializer=RandomUniform(minval=-0.5, maxval=0.5), name='char_embedding')(chars_input) #, activity_regularizer=regularizers.l2(0.01)) #TODO : regulazier affects accuracz quite a bit \n",
    "char_1 = Flatten()(embed_char_out)\n",
    "char_2 = Dense(32, activation='tanh')(char_1)\n",
    "\n",
    "t1 = concatenate ([words_1, words_2, char_2])\n",
    "t2 = Dropout(rate = 0.3)(t1)\n",
    "\n",
    "dense_2 = Dense(24, activation='tanh')(t2)\n",
    "dense_3 = Dense(10, activation='tanh')(dense_2)\n",
    "op = Dense(len(label2idx), activation='softmax')(dense_3)\n",
    "model = Model(inputs=[words_input, words_input2, chars_input], outputs=op)\n",
    "\n",
    "model.compile(optimizer='adam', loss='categorical_crossentropy', metrics=['accuracy'], )\n",
    "history = model.fit([product_name_seq, product_desc_seq, char_name_seq], np.asarray(one_hot_labels), epochs=13, validation_split = 0.2, verbose = 1, callbacks=[es]) #, class_weight=class_weight)  # starts training"
   ]
  },
  {
   "cell_type": "code",
   "execution_count": 75,
   "metadata": {},
   "outputs": [
    {
     "name": "stdout",
     "output_type": "stream",
     "text": [
      "Train on 15521 samples, validate on 3881 samples\n",
      "Epoch 1/12\n",
      "15521/15521 [==============================] - 5s 299us/step - loss: 0.1989 - acc: 0.9266 - val_loss: 0.1285 - val_acc: 0.9572\n",
      "Epoch 2/12\n",
      "15521/15521 [==============================] - 3s 201us/step - loss: 0.1332 - acc: 0.9519 - val_loss: 0.1093 - val_acc: 0.9624\n",
      "Epoch 3/12\n",
      "15521/15521 [==============================] - 3s 201us/step - loss: 0.1084 - acc: 0.9612 - val_loss: 0.0996 - val_acc: 0.9670\n",
      "Epoch 4/12\n",
      "15521/15521 [==============================] - 3s 201us/step - loss: 0.0853 - acc: 0.9691 - val_loss: 0.1104 - val_acc: 0.9598\n",
      "Epoch 5/12\n",
      "15521/15521 [==============================] - 3s 201us/step - loss: 0.0721 - acc: 0.9757 - val_loss: 0.0964 - val_acc: 0.9686\n",
      "Epoch 6/12\n",
      "15521/15521 [==============================] - 3s 202us/step - loss: 0.0650 - acc: 0.9777 - val_loss: 0.0969 - val_acc: 0.9699\n",
      "Epoch 7/12\n",
      "15521/15521 [==============================] - 3s 200us/step - loss: 0.0559 - acc: 0.9798 - val_loss: 0.1028 - val_acc: 0.9683\n",
      "Epoch 8/12\n",
      "15521/15521 [==============================] - 3s 201us/step - loss: 0.0472 - acc: 0.9839 - val_loss: 0.0998 - val_acc: 0.9680\n",
      "Epoch 9/12\n",
      "15521/15521 [==============================] - 3s 202us/step - loss: 0.0459 - acc: 0.9836 - val_loss: 0.1027 - val_acc: 0.9696\n",
      "Epoch 10/12\n",
      "15521/15521 [==============================] - 3s 200us/step - loss: 0.0449 - acc: 0.9843 - val_loss: 0.1026 - val_acc: 0.9696\n",
      "Epoch 11/12\n",
      "15521/15521 [==============================] - 3s 204us/step - loss: 0.0406 - acc: 0.9854 - val_loss: 0.1001 - val_acc: 0.9711\n",
      "Epoch 12/12\n",
      "15521/15521 [==============================] - 3s 199us/step - loss: 0.0346 - acc: 0.9882 - val_loss: 0.1084 - val_acc: 0.9711\n"
     ]
    }
   ],
   "source": [
    "#2 and 3 \n",
    "SEED = 12545\n",
    "\n",
    "os.environ['PYTHONHASHSEED']=str(SEED)\n",
    "np.random.seed(SEED)\n",
    "set_random_seed(SEED)\n",
    "rn.seed(SEED)\n",
    "\n",
    "es = EarlyStopping(monitor='val_loss', mode='min', verbose=1, patience=40)\n",
    "mc = ModelCheckpoint('best_model.h5', monitor='val_loss', mode='min', save_best_only=True)\n",
    "#mc = ModelCheckpoint('best_model.h5', monitor='val_loss', mode='min', verbose=1)\n",
    "\n",
    "words_input = Input(shape=(max_words_pname, ), dtype='float32')\n",
    "word_embed_1 = Embedding(num_words, embedding_dim, embeddings_initializer=Constant(embedding_matrix), input_length=max_words_pname, trainable=False) (words_input)\n",
    "words_flatten_1 = Flatten()(word_embed_1)\n",
    "words_dropout_1 = Dropout(rate = 0.3)(words_flatten_1)\n",
    "\n",
    "words_1 = Dense(32, activation='tanh')(words_dropout_1)\n",
    "\n",
    "words_input2 = Input(shape=(max_words, ), dtype='float32')\n",
    "words_2 = Dense(32, activation='tanh')(words_input2)\n",
    "\n",
    "chars_input = Input(shape=(max_chars, ), dtype='float32')\n",
    "\n",
    "embed_char_out= Embedding(len(chart.word_counts), 10, embeddings_initializer=RandomUniform(minval=-0.5, maxval=0.5), name='char_embedding')(chars_input) #, activity_regularizer=regularizers.l2(0.01)) #TODO : regulazier affects accuracz quite a bit \n",
    "char_1 = Flatten()(embed_char_out)\n",
    "char_2 = Dense(64, activation='tanh')(char_1)\n",
    "\n",
    "t1 = concatenate ([words_1, words_2, char_2])\n",
    "t2 = Dropout(rate = 0.25)(t1)\n",
    "\n",
    "dense_2 = Dense(24, activation='tanh')(t2)\n",
    "dense_3 = Dense(10, activation='tanh')(dense_2)\n",
    "op = Dense(len(label2idx), activation='softmax')(dense_3)\n",
    "model = Model(inputs=[words_input, words_input2, chars_input], outputs=op)\n",
    "\n",
    "model.compile(optimizer='adam', loss='categorical_crossentropy', metrics=['accuracy'], )\n",
    "history = model.fit([product_name_seq, product_desc_seq, char_name_seq], np.asarray(one_hot_labels), epochs=12, validation_split = 0.2, verbose = 1, callbacks=[es]) #, class_weight=class_weight)  # starts training"
   ]
  },
  {
   "cell_type": "code",
   "execution_count": 228,
   "metadata": {},
   "outputs": [
    {
     "name": "stdout",
     "output_type": "stream",
     "text": [
      "Model: \"model_20\"\n",
      "__________________________________________________________________________________________________\n",
      "Layer (type)                    Output Shape         Param #     Connected to                     \n",
      "==================================================================================================\n",
      "input_58 (InputLayer)           (None, 6)            0                                            \n",
      "__________________________________________________________________________________________________\n",
      "embedding_20 (Embedding)        (None, 6, 300)       7007700     input_58[0][0]                   \n",
      "__________________________________________________________________________________________________\n",
      "input_60 (InputLayer)           (None, 250)          0                                            \n",
      "__________________________________________________________________________________________________\n",
      "flatten_39 (Flatten)            (None, 1800)         0           embedding_20[0][0]               \n",
      "__________________________________________________________________________________________________\n",
      "char_embedding (Embedding)      (None, 250, 10)      1130        input_60[0][0]                   \n",
      "__________________________________________________________________________________________________\n",
      "dropout_39 (Dropout)            (None, 1800)         0           flatten_39[0][0]                 \n",
      "__________________________________________________________________________________________________\n",
      "input_59 (InputLayer)           (None, 30)           0                                            \n",
      "__________________________________________________________________________________________________\n",
      "flatten_40 (Flatten)            (None, 2500)         0           char_embedding[0][0]             \n",
      "__________________________________________________________________________________________________\n",
      "dense_115 (Dense)               (None, 24)           43224       dropout_39[0][0]                 \n",
      "__________________________________________________________________________________________________\n",
      "dense_116 (Dense)               (None, 24)           744         input_59[0][0]                   \n",
      "__________________________________________________________________________________________________\n",
      "dense_117 (Dense)               (None, 32)           80032       flatten_40[0][0]                 \n",
      "__________________________________________________________________________________________________\n",
      "concatenate_20 (Concatenate)    (None, 80)           0           dense_115[0][0]                  \n",
      "                                                                 dense_116[0][0]                  \n",
      "                                                                 dense_117[0][0]                  \n",
      "__________________________________________________________________________________________________\n",
      "dropout_40 (Dropout)            (None, 80)           0           concatenate_20[0][0]             \n",
      "__________________________________________________________________________________________________\n",
      "dense_118 (Dense)               (None, 24)           1944        dropout_40[0][0]                 \n",
      "__________________________________________________________________________________________________\n",
      "dense_119 (Dense)               (None, 10)           250         dense_118[0][0]                  \n",
      "__________________________________________________________________________________________________\n",
      "dense_120 (Dense)               (None, 74)           814         dense_119[0][0]                  \n",
      "==================================================================================================\n",
      "Total params: 7,135,838\n",
      "Trainable params: 7,135,838\n",
      "Non-trainable params: 0\n",
      "__________________________________________________________________________________________________\n"
     ]
    }
   ],
   "source": [
    "model.summary()"
   ]
  },
  {
   "cell_type": "code",
   "execution_count": 76,
   "metadata": {},
   "outputs": [],
   "source": [
    "eval_col_map = {'Coicop5_Final' :'Predicted_COICOP_5_Category', 'Coicop4_Final' : 'Predicted_COICOP_4_Category', 'Coicop3_Final' : 'Predicted_COICOP_3_Category', 'Coicop2_Final' : 'Predicted_COICOP_2_Category'}"
   ]
  },
  {
   "cell_type": "code",
   "execution_count": 44,
   "metadata": {},
   "outputs": [],
   "source": [
    "#file_name = './models/model_metadata_' + target + '.pkl'\n",
    "#with open(file_name, \"wb\") as f:\n",
    "#    pickle.dump(label2idx, f)\n",
    "#    pickle.dump(idx2label, f)\n",
    "#    pickle.dump(chart, f)\n",
    "#    pickle.dump(wordt, f)\n",
    "#    pickle.dump(embedding_matrix, f)\n",
    "#    pickle.dump(eval_col_map, f)\n",
    "#    pickle.dump(history, f)\n",
    "#    \n",
    "#model.save('./models/model' + target + '.h5')"
   ]
  },
  {
   "cell_type": "code",
   "execution_count": 77,
   "metadata": {},
   "outputs": [],
   "source": [
    "op = model.predict([product_name_seq, product_desc_seq, char_name_seq])"
   ]
  },
  {
   "cell_type": "code",
   "execution_count": 24,
   "metadata": {},
   "outputs": [],
   "source": [
    "#['01118', '01172', '01117', '01213', '01114', '01136', '01121', '01161', '01125', '01185', '01127', '02133', '01122', '01116', '01124', '01175', '01132', '01221', '01222', '01192', '01128', '01171', '01191', '01184', '01164', '01151', '01181', '01163', '01112', '01115', '01173', '01113', '01211', '02121', '01145', '01223', '01147', '01183', '01154', '02111', '02131', '02122', '01182', '01126', '01174', '01162', '01146', '01176', '01111', '01123', '01133', '01134', '01152', '01199', '01193', '02132', '01212', '01131', '01135', '01153', '01155', '01194', '02134', '01186', '02124', '01144', '02201', '01142', '01143', '02202', '02203', '01141', '02123', '02112']\n",
    "#['0111', '0117', '0121', '0113', '0112', '0116', '0118', '0213', '0122', '0119', '0115', '0212', '0114', '0211', '0220']\n",
    "#['011', '012', '021', '022']\n",
    "#['01', '02']\n",
    "#lst"
   ]
  },
  {
   "cell_type": "code",
   "execution_count": 78,
   "metadata": {},
   "outputs": [],
   "source": [
    "prediction = []\n",
    "for i in op:\n",
    "    prediction.append(i.tolist().index(max(i)))\n",
    "\n",
    "preds2 = inverse_transform(prediction, idx2label)\n",
    "train[eval_col_map[target]] = preds2"
   ]
  },
  {
   "cell_type": "code",
   "execution_count": 80,
   "metadata": {},
   "outputs": [],
   "source": [
    "# orig code that works\n",
    "num = 10000\n",
    "#test\n",
    "#product_desc = c1['product_description'].values.tolist() + c2['product_description'].values.tolist()\n",
    "#product_name = c1['product_name'].values.tolist() + c2['product_name'].values.tolist()\n",
    "#labels = c1[target].values.tolist() + [i for i in np.zeros(1544)] #c2[target].values.tolist()\n",
    "\n",
    "#products = train_ws['product_name']\n",
    "df = test_ws #test_ws test_mg\n",
    "\n",
    "product_desct = df['product_description']\n",
    "product_namet = df['product_name']\n",
    "\n",
    "product_desct = [str(i) for i in product_desct]\n",
    "product_namet = [str(i) for i in product_namet]\n",
    "\n",
    "# print(wordt.word_counts)\n",
    "product_name_seqt = wordt.texts_to_sequences(product_namet)\n",
    "product_name_seqt = pad_sequences(product_name_seqt, maxlen= max_words_pname, padding='post', truncating = 'post')\n",
    "product_desc_seqt = wordt.texts_to_sequences(product_desct)\n",
    "product_desc_seqt = pad_sequences(product_desc_seqt, maxlen= max_words, padding='post', truncating = 'post')\n",
    "\n",
    "char_desc_seqt = chart.texts_to_sequences(product_desct)\n",
    "char_desc_seqt = pad_sequences(char_desc_seqt, maxlen= max_chars, padding='post', truncating = 'post')\n",
    "char_name_seqt = chart.texts_to_sequences(product_namet)\n",
    "char_name_seqt = pad_sequences(char_name_seqt, maxlen= max_chars, padding='post', truncating = 'post')\n",
    "opt = model.predict([product_name_seqt, product_desc_seqt, char_name_seqt])\n",
    "predictiont = []\n",
    "for i in opt:\n",
    "    predictiont.append(i.tolist().index(max(i)))\n",
    "\n",
    "preds2t = inverse_transform(predictiont, idx2label)\n",
    "df[eval_col_map[target]] = preds2t"
   ]
  },
  {
   "cell_type": "code",
   "execution_count": 81,
   "metadata": {},
   "outputs": [
    {
     "data": {
      "text/plain": [
       "0      01\n",
       "1      01\n",
       "2      01\n",
       "3      01\n",
       "4      01\n",
       "       ..\n",
       "953    01\n",
       "954    01\n",
       "955    01\n",
       "956    01\n",
       "957    02\n",
       "Name: Predicted_COICOP_2_Category, Length: 958, dtype: object"
      ]
     },
     "execution_count": 81,
     "metadata": {},
     "output_type": "execute_result"
    }
   ],
   "source": [
    "test_mg[eval_col_map[target]]"
   ]
  },
  {
   "cell_type": "code",
   "execution_count": 82,
   "metadata": {},
   "outputs": [
    {
     "data": {
      "text/plain": [
       "0       01\n",
       "1       02\n",
       "2       01\n",
       "3       01\n",
       "4       01\n",
       "        ..\n",
       "1193    02\n",
       "1194    01\n",
       "1195    01\n",
       "1196    01\n",
       "1197    01\n",
       "Name: Predicted_COICOP_2_Category, Length: 1198, dtype: object"
      ]
     },
     "execution_count": 82,
     "metadata": {},
     "output_type": "execute_result"
    }
   ],
   "source": [
    "test_ws[eval_col_map[target]]"
   ]
  },
  {
   "cell_type": "code",
   "execution_count": 85,
   "metadata": {},
   "outputs": [
    {
     "data": {
      "text/plain": [
       "0      01128\n",
       "1      01164\n",
       "2      01154\n",
       "3      01124\n",
       "4      01184\n",
       "       ...  \n",
       "953    01127\n",
       "954    01161\n",
       "955    01171\n",
       "956    01172\n",
       "957    02131\n",
       "Name: Predicted_COICOP_5_Category, Length: 958, dtype: object"
      ]
     },
     "execution_count": 85,
     "metadata": {},
     "output_type": "execute_result"
    }
   ],
   "source": [
    "test_mg['Predicted_COICOP_5_Category']"
   ]
  },
  {
   "cell_type": "code",
   "execution_count": 242,
   "metadata": {},
   "outputs": [
    {
     "data": {
      "image/png": "[encoded data removed]",
      "text/plain": [
       "<Figure size 432x288 with 1 Axes>"
      ]
     },
     "metadata": {
      "needs_background": "light"
     },
     "output_type": "display_data"
    }
   ],
   "source": [
    "plt.plot(history.history['loss'])\n",
    "plt.plot(history.history['val_loss'])\n",
    "plt.title('Model loss')\n",
    "plt.ylabel('Loss')\n",
    "plt.xlabel('Epoch')\n",
    "plt.legend(['Train', 'Test'], loc='upper left')\n",
    "plt.show()"
   ]
  },
  {
   "cell_type": "code",
   "execution_count": 243,
   "metadata": {},
   "outputs": [
    {
     "data": {
      "image/png": "[encoded data removed]",
      "text/plain": [
       "<Figure size 432x288 with 1 Axes>"
      ]
     },
     "metadata": {
      "needs_background": "light"
     },
     "output_type": "display_data"
    }
   ],
   "source": [
    "# Plotsummaryining & validation accuracy values\n",
    "plt.plot(history.history['acc'])\n",
    "plt.plot(history.history['val_acc'])\n",
    "plt.title('Model accuracy')\n",
    "plt.ylabel('Accuracy')\n",
    "plt.xlabel('Epoch')\n",
    "plt.legend(['Train', 'Test'], loc='upper left')\n",
    "plt.show()"
   ]
  }
 ],
 "metadata": {
  "kernelspec": {
   "display_name": "Python 3",
   "language": "python",
   "name": "python3"
  },
  "language_info": {
   "codemirror_mode": {
    "name": "ipython",
    "version": 3
   },
   "file_extension": ".py",
   "mimetype": "text/x-python",
   "name": "python",
   "nbconvert_exporter": "python",
   "pygments_lexer": "ipython3",
   "version": "3.7.3"
  }
 },
 "nbformat": 4,
 "nbformat_minor": 4
}
